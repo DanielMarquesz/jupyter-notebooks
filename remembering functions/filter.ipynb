{
 "cells": [
  {
   "cell_type": "code",
   "execution_count": 2,
   "metadata": {},
   "outputs": [],
   "source": [
    "import statistics as st"
   ]
  },
  {
   "cell_type": "code",
   "execution_count": 3,
   "metadata": {},
   "outputs": [],
   "source": [
    "lista = [1.1, 87.5, 0.2, 4, 3.3]\n",
    "\n",
    "media = st.mean(lista)"
   ]
  },
  {
   "cell_type": "code",
   "execution_count": 8,
   "metadata": {},
   "outputs": [
    {
     "name": "stdout",
     "output_type": "stream",
     "text": [
      "[1.1, 0.2, 4, 3.3]\n"
     ]
    }
   ],
   "source": [
    "print(list(filter(lambda i: i < media, lista)))\n",
    "\n",
    "# Semelhante ao map(), recebe dois parâmetros, uma função(que permite um retorno de True or False) e um iterável, \n",
    "# ao qual cada item é aplicado a determinada função.\n",
    "\n",
    "# O variável é resetada após usa primeira utilização"
   ]
  },
  {
   "cell_type": "code",
   "execution_count": 11,
   "metadata": {},
   "outputs": [
    {
     "name": "stdout",
     "output_type": "stream",
     "text": [
      "['Itália', 'Georgia', 'França', 'Suécia']\n",
      "['Itália', 'Georgia', 'França', 'Suécia']\n"
     ]
    }
   ],
   "source": [
    "# Remoção de dados faltantes de uma lista com filter\n",
    "countrys = ['', 'Itália', '', '', 'Georgia','', 'França','Suécia','','']\n",
    "\n",
    "res = filter(lambda x: x != '', countrys)\n",
    "print(list(res))\n",
    "\n",
    "# Ou\n",
    "\n",
    "res = filter(None, countrys)\n",
    "print(list(res))\n"
   ]
  },
  {
   "cell_type": "code",
   "execution_count": 13,
   "metadata": {},
   "outputs": [
    {
     "name": "stdout",
     "output_type": "stream",
     "text": [
      "Basic Tests\n"
     ]
    }
   ],
   "source": [
    "def to_camel_case(text):\n",
    "    \n",
    "    test = text.strip().title()\n",
    "    print(test)\n",
    "    \n",
    "    \n",
    "to_camel_case(\"Basic tests\")\n"
   ]
  },
  {
   "cell_type": "code",
   "execution_count": null,
   "metadata": {},
   "outputs": [],
   "source": []
  }
 ],
 "metadata": {
  "kernelspec": {
   "display_name": "Python 3",
   "language": "python",
   "name": "python3"
  },
  "language_info": {
   "codemirror_mode": {
    "name": "ipython",
    "version": 3
   },
   "file_extension": ".py",
   "mimetype": "text/x-python",
   "name": "python",
   "nbconvert_exporter": "python",
   "pygments_lexer": "ipython3",
   "version": "3.9.1"
  }
 },
 "nbformat": 4,
 "nbformat_minor": 4
}
